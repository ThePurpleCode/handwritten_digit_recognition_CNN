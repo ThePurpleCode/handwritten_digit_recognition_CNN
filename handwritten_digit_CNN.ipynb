{
 "cells": [
  {
   "cell_type": "code",
   "execution_count": 13,
   "id": "5720798f-780b-4037-b757-6c5a5945f689",
   "metadata": {},
   "outputs": [],
   "source": [
    "import numpy as np\n",
    "import matplotlib.pyplot as plt\n",
    "import tensorflow as tf\n",
    "from tensorflow import keras\n",
    "import seaborn as sns"
   ]
  },
  {
   "cell_type": "code",
   "execution_count": 15,
   "id": "b27d555c-7cb3-4f86-86be-325c8c702300",
   "metadata": {},
   "outputs": [],
   "source": [
    "(x_train , y_train) , ( x_test , y_test ) = tf.keras.datasets.mnist.load_data() "
   ]
  },
  {
   "cell_type": "code",
   "execution_count": 17,
   "id": "abd49dec-6b56-4eac-b79d-1243b4c4ab58",
   "metadata": {},
   "outputs": [
    {
     "name": "stdout",
     "output_type": "stream",
     "text": [
      "x_train shape: (60000, 28, 28)\n",
      "y_train shape: (60000,)\n",
      "x_test shape: (10000, 28, 28)\n",
      "y_test shape: (10000,)\n"
     ]
    }
   ],
   "source": [
    "print(\"x_train shape:\", x_train.shape)\n",
    "print(\"y_train shape:\", y_train.shape)\n",
    "print(\"x_test shape:\", x_test.shape)\n",
    "print(\"y_test shape:\", y_test.shape)"
   ]
  },
  {
   "cell_type": "code",
   "execution_count": 19,
   "id": "dea898f3-e96d-4ee7-8f36-0141e592615a",
   "metadata": {},
   "outputs": [
    {
     "name": "stdout",
     "output_type": "stream",
     "text": [
      "y_lables: [0 1 2 3 4 5 6 7 8 9]\n"
     ]
    }
   ],
   "source": [
    "print(\"y_lables:\" , np.unique(y_train))"
   ]
  },
  {
   "cell_type": "code",
   "execution_count": 77,
   "id": "5b7389cd-8e0a-49d0-9a72-190da619091a",
   "metadata": {},
   "outputs": [
    {
     "data": {
      "image/png": "[encoded data removed]",
      "text/plain": [
       "<Figure size 640x480 with 1 Axes>"
      ]
     },
     "metadata": {},
     "output_type": "display_data"
    }
   ],
   "source": [
    "plt.imshow(x_train[69] , cmap = 'gray')\n",
    "plt.title(f\"labeled as: {y_train[69]}\")\n",
    "plt.axis(\"off\")\n",
    "plt.show()"
   ]
  },
  {
   "cell_type": "code",
   "execution_count": 37,
   "id": "0ba58b1c-f6b9-4008-8655-772c5f5ba715",
   "metadata": {},
   "outputs": [],
   "source": [
    "x_train = x_train/255\n",
    "x_test = x_test/255"
   ]
  },
  {
   "cell_type": "code",
   "execution_count": 41,
   "id": "c03f2ffd-8c71-495d-8d59-4161b4181651",
   "metadata": {},
   "outputs": [],
   "source": [
    "x_train = x_train.reshape(-1 , 28 , 28 , 1)\n",
    "x_test= x_test.reshape(-1 , 28 , 28 , 1)"
   ]
  },
  {
   "cell_type": "code",
   "execution_count": 43,
   "id": "d3c4c6a4-7701-427f-b731-b9fb5e8cd76f",
   "metadata": {},
   "outputs": [
    {
     "name": "stdout",
     "output_type": "stream",
     "text": [
      "x_train shape: (60000, 28, 28, 1)\n",
      "y_train shape: (60000,)\n",
      "x_test shape: (10000, 28, 28, 1)\n",
      "y_test shape: (10000,)\n"
     ]
    }
   ],
   "source": [
    "print(\"x_train shape:\", x_train.shape)\n",
    "print(\"y_train shape:\", y_train.shape)\n",
    "print(\"x_test shape:\", x_test.shape)\n",
    "print(\"y_test shape:\", y_test.shape)"
   ]
  },
  {
   "cell_type": "code",
   "execution_count": 47,
   "id": "a0fc713a-64c6-4e2d-b1e1-537c4b90c45b",
   "metadata": {},
   "outputs": [],
   "source": [
    "model = keras.Sequential([\n",
    "    keras.Input(shape = (28, 28 ,1 )),\n",
    "    keras.layers.Conv2D(filters = 32 , kernel_size=(3 , 3) , activation = 'relu'), \n",
    "    keras.layers.Conv2D(filters = 64 , kernel_size = (3,3) , activation = 'relu'),\n",
    "    keras.layers.MaxPooling2D(pool_size = (2,2)),\n",
    "    keras.layers.Flatten(),\n",
    "    keras.layers.Dense(64 , activation ='relu'),\n",
    "    keras.layers.Dense(10 , activation ='softmax')\n",
    "                        \n",
    "])"
   ]
  },
  {
   "cell_type": "code",
   "execution_count": 55,
   "id": "dbe216fc-a3af-477c-82cd-192ef2724a59",
   "metadata": {},
   "outputs": [],
   "source": [
    "model.compile(\n",
    "    optimizer = 'adam',\n",
    "    loss = 'sparse_categorical_crossentropy',\n",
    "    metrics = ['accuracy']\n",
    ")    "
   ]
  },
  {
   "cell_type": "code",
   "execution_count": 57,
   "id": "1c841f93-0529-40d9-afe2-7d5f78fb8aba",
   "metadata": {},
   "outputs": [
    {
     "name": "stdout",
     "output_type": "stream",
     "text": [
      "Epoch 1/10\n",
      "\u001b[1m1688/1688\u001b[0m \u001b[32m━━━━━━━━━━━━━━━━━━━━\u001b[0m\u001b[37m\u001b[0m \u001b[1m39s\u001b[0m 22ms/step - accuracy: 0.7629 - loss: 0.7298 - val_accuracy: 0.9240 - val_loss: 0.2700\n",
      "Epoch 2/10\n",
      "\u001b[1m1688/1688\u001b[0m \u001b[32m━━━━━━━━━━━━━━━━━━━━\u001b[0m\u001b[37m\u001b[0m \u001b[1m43s\u001b[0m 25ms/step - accuracy: 0.9106 - loss: 0.3015 - val_accuracy: 0.9423 - val_loss: 0.2105\n",
      "Epoch 3/10\n",
      "\u001b[1m1688/1688\u001b[0m \u001b[32m━━━━━━━━━━━━━━━━━━━━\u001b[0m\u001b[37m\u001b[0m \u001b[1m75s\u001b[0m 21ms/step - accuracy: 0.9232 - loss: 0.2560 - val_accuracy: 0.9465 - val_loss: 0.1920\n",
      "Epoch 4/10\n",
      "\u001b[1m1688/1688\u001b[0m \u001b[32m━━━━━━━━━━━━━━━━━━━━\u001b[0m\u001b[37m\u001b[0m \u001b[1m35s\u001b[0m 21ms/step - accuracy: 0.9321 - loss: 0.2266 - val_accuracy: 0.9503 - val_loss: 0.1818\n",
      "Epoch 5/10\n",
      "\u001b[1m1688/1688\u001b[0m \u001b[32m━━━━━━━━━━━━━━━━━━━━\u001b[0m\u001b[37m\u001b[0m \u001b[1m34s\u001b[0m 20ms/step - accuracy: 0.9386 - loss: 0.2057 - val_accuracy: 0.9550 - val_loss: 0.1616\n",
      "Epoch 6/10\n",
      "\u001b[1m1688/1688\u001b[0m \u001b[32m━━━━━━━━━━━━━━━━━━━━\u001b[0m\u001b[37m\u001b[0m \u001b[1m38s\u001b[0m 23ms/step - accuracy: 0.9416 - loss: 0.1929 - val_accuracy: 0.9513 - val_loss: 0.1663\n",
      "Epoch 7/10\n",
      "\u001b[1m1688/1688\u001b[0m \u001b[32m━━━━━━━━━━━━━━━━━━━━\u001b[0m\u001b[37m\u001b[0m \u001b[1m32s\u001b[0m 19ms/step - accuracy: 0.9464 - loss: 0.1814 - val_accuracy: 0.9582 - val_loss: 0.1511\n",
      "Epoch 8/10\n",
      "\u001b[1m1688/1688\u001b[0m \u001b[32m━━━━━━━━━━━━━━━━━━━━\u001b[0m\u001b[37m\u001b[0m \u001b[1m34s\u001b[0m 20ms/step - accuracy: 0.9469 - loss: 0.1735 - val_accuracy: 0.9572 - val_loss: 0.1486\n",
      "Epoch 9/10\n",
      "\u001b[1m1688/1688\u001b[0m \u001b[32m━━━━━━━━━━━━━━━━━━━━\u001b[0m\u001b[37m\u001b[0m \u001b[1m34s\u001b[0m 20ms/step - accuracy: 0.9499 - loss: 0.1661 - val_accuracy: 0.9558 - val_loss: 0.1541\n",
      "Epoch 10/10\n",
      "\u001b[1m1688/1688\u001b[0m \u001b[32m━━━━━━━━━━━━━━━━━━━━\u001b[0m\u001b[37m\u001b[0m \u001b[1m37s\u001b[0m 22ms/step - accuracy: 0.9518 - loss: 0.1584 - val_accuracy: 0.9617 - val_loss: 0.1395\n"
     ]
    },
    {
     "data": {
      "text/plain": [
       "<keras.src.callbacks.history.History at 0x26405140140>"
      ]
     },
     "execution_count": 57,
     "metadata": {},
     "output_type": "execute_result"
    }
   ],
   "source": [
    "model.fit(x_train , y_train , epochs = 10 , validation_split = 0.1)"
   ]
  },
  {
   "cell_type": "code",
   "execution_count": 67,
   "id": "ffa23f7d-4c08-4920-88a8-fe0d47cde640",
   "metadata": {},
   "outputs": [
    {
     "name": "stdout",
     "output_type": "stream",
     "text": [
      "\u001b[1m313/313\u001b[0m \u001b[32m━━━━━━━━━━━━━━━━━━━━\u001b[0m\u001b[37m\u001b[0m \u001b[1m3s\u001b[0m 10ms/step - accuracy: 0.9102 - loss: 33.3708\n",
      "test accuracy : 0.9102\n"
     ]
    }
   ],
   "source": [
    "test_loss , test_accuracy =model.evaluate(x_test , y_test)\n",
    "print(f\"test accuracy : {test_accuracy:.4f}\")\n"
   ]
  },
  {
   "cell_type": "code",
   "execution_count": 69,
   "id": "e9b66488-5751-4e7e-8a25-6c10a692d347",
   "metadata": {},
   "outputs": [
    {
     "name": "stdout",
     "output_type": "stream",
     "text": [
      "\u001b[1m313/313\u001b[0m \u001b[32m━━━━━━━━━━━━━━━━━━━━\u001b[0m\u001b[37m\u001b[0m \u001b[1m3s\u001b[0m 10ms/step\n"
     ]
    }
   ],
   "source": [
    "predictions = model.predict(x_test)"
   ]
  },
  {
   "cell_type": "code",
   "execution_count": 71,
   "id": "0761b36e-0b3a-4339-a7ed-bc006f384218",
   "metadata": {},
   "outputs": [],
   "source": [
    "predicted_labels = np.argmax(predictions, axis=1)"
   ]
  },
  {
   "cell_type": "code",
   "execution_count": 87,
   "id": "2e245963-1da7-43d1-8cdb-52d422cc5b18",
   "metadata": {},
   "outputs": [
    {
     "data": {
      "image/png": "[encoded data removed]",
      "text/plain": [
       "<Figure size 640x480 with 1 Axes>"
      ]
     },
     "metadata": {},
     "output_type": "display_data"
    }
   ],
   "source": [
    "plt.imshow(x_test[100].reshape(28 , 28 ) , cmap ='grey')\n",
    "plt.title(f\"Predicted: {predicted_labels[100]}, Actual: {y_test[100]}\")\n",
    "plt.axis('off')\n",
    "plt.show()"
   ]
  },
  {
   "cell_type": "code",
   "execution_count": 93,
   "id": "6950d2d0-689c-4d60-8161-ae42e46acd4f",
   "metadata": {},
   "outputs": [
    {
     "name": "stdout",
     "output_type": "stream",
     "text": [
      "checking my own handwritten image\n"
     ]
    }
   ],
   "source": [
    "print(\"checking my own handwritten image\")"
   ]
  },
  {
   "cell_type": "code",
   "execution_count": 139,
   "id": "19dfbe1c-4d67-45e8-960d-c712148902cb",
   "metadata": {},
   "outputs": [],
   "source": [
    "from PIL import Image"
   ]
  },
  {
   "cell_type": "code",
   "execution_count": 141,
   "id": "b926b8f1-29b6-48fc-8d4f-326010899851",
   "metadata": {},
   "outputs": [],
   "source": [
    "img = Image.open(\"test_case1.jpg\").convert(\"L\") "
   ]
  },
  {
   "cell_type": "code",
   "execution_count": 143,
   "id": "b3b9ac34-fd08-44e4-853f-39c1d96bb6f4",
   "metadata": {},
   "outputs": [],
   "source": [
    "img = img.resize((28, 28))\n",
    "\n",
    "img_array = np.array(img)\n",
    "\n",
    "img_array = 255 - img_array\n",
    "\n",
    "img_array = img_array / 255.0\n",
    "\n",
    "img_array = img_array.reshape(1, 28, 28, 1)"
   ]
  },
  {
   "cell_type": "code",
   "execution_count": 145,
   "id": "fa657f25-6a3a-42a4-899d-0c9ffce2757c",
   "metadata": {},
   "outputs": [
    {
     "name": "stdout",
     "output_type": "stream",
     "text": [
      "\u001b[1m1/1\u001b[0m \u001b[32m━━━━━━━━━━━━━━━━━━━━\u001b[0m\u001b[37m\u001b[0m \u001b[1m0s\u001b[0m 74ms/step\n"
     ]
    }
   ],
   "source": [
    "prediction = model.predict(img_array)\n",
    "predicted_digit = np.argmax(prediction)"
   ]
  },
  {
   "cell_type": "code",
   "execution_count": 147,
   "id": "a4fd3aee-36b7-4c09-9941-fd84b5541ab1",
   "metadata": {},
   "outputs": [
    {
     "data": {
      "image/png": "[encoded data removed]",
      "text/plain": [
       "<Figure size 640x480 with 1 Axes>"
      ]
     },
     "metadata": {},
     "output_type": "display_data"
    },
    {
     "name": "stdout",
     "output_type": "stream",
     "text": [
      "Model Prediction: 5\n"
     ]
    }
   ],
   "source": [
    "plt.imshow(img_array.reshape(28, 28), cmap='gray')\n",
    "plt.title(f\"Predicted Digit: {predicted_digit}\")\n",
    "plt.axis('off')\n",
    "plt.show()\n",
    "\n",
    "print(f\"Model Prediction: {predicted_digit}\")"
   ]
  },
  {
   "cell_type": "code",
   "execution_count": 149,
   "id": "cedce35a-65cf-471f-9962-f7ba6f0456dd",
   "metadata": {},
   "outputs": [],
   "source": [
    "model.save(\"handwritten_digit_recognition_model.keras\")"
   ]
  }
 ],
 "metadata": {
  "kernelspec": {
   "display_name": "Python [conda env:base] *",
   "language": "python",
   "name": "conda-base-py"
  },
  "language_info": {
   "codemirror_mode": {
    "name": "ipython",
    "version": 3
   },
   "file_extension": ".py",
   "mimetype": "text/x-python",
   "name": "python",
   "nbconvert_exporter": "python",
   "pygments_lexer": "ipython3",
   "version": "3.12.7"
  }
 },
 "nbformat": 4,
 "nbformat_minor": 5
}
